{
 "cells": [
  {
   "cell_type": "markdown",
   "metadata": {},
   "source": [
    "# 第2章 线性规划建模代码示例"
   ]
  },
  {
   "cell_type": "markdown",
   "metadata": {},
   "source": [
    "## 7\n",
    "\n",
    "一家工业再生中心用A和B两种废铝金属生产特殊合金。废料A含有6%的铝、3%的硅和4%的碳。废料B含有3%的铝、6%的硅和3%的碳。每吨废料A和B的成本分别是100美元和80美元。这种特殊合金的规格要求是：\n",
    "\n",
    "1. 铝的含量必须在3%~6%之间\n",
    "2. 硅的含量必须在3%~5%之间\n",
    "3. 碳的含量必须在3%~7%之间。\n",
    "\n",
    "求用于生产1000吨这种特殊合金所需的废料的最优组合\n"
   ]
  },
  {
   "cell_type": "code",
   "execution_count": 3,
   "metadata": {},
   "outputs": [],
   "source": [
    "from optlang import Model, Variable, Constraint, Objective"
   ]
  },
  {
   "cell_type": "code",
   "execution_count": 11,
   "metadata": {},
   "outputs": [
    {
     "name": "stdout",
     "output_type": "stream",
     "text": [
      "status: optimal\n",
      "objective value: 86666.66666666666\n",
      "----------\n",
      "a = 333.33333333333314\n",
      "b = 666.6666666666669\n"
     ]
    }
   ],
   "source": [
    "a = Variable('a', lb=0)\n",
    "b = Variable('b', lb=0)\n",
    "\n",
    "c1 = Constraint(0.06 * a + 0.03 * b - 0.03 * (a + b), lb = 0)\n",
    "c2 = Constraint(0.06 * a + 0.03 * b - 0.06 * (a + b), ub = 0)\n",
    "c3 = Constraint(0.03 * a + 0.06 * b - 0.03 * (a + b), lb = 0)\n",
    "c4 = Constraint(0.03 * a + 0.06 * b - 0.05 * (a + b), ub = 0)\n",
    "c5 = Constraint(0.04 * a + 0.03 * b - 0.03 * (a + b), lb = 0)\n",
    "c6 = Constraint(0.04 * a + 0.03 * b - 0.07 * (a + b), ub = 0)\n",
    "c7 = Constraint(a + b, lb = 1000)\n",
    "\n",
    "obj = Objective(100 * a + 80 * b, direction='min')\n",
    "\n",
    "model = Model(name='铝合金')\n",
    "model.objective = obj\n",
    "model.add([c1, c2, c3, c4, c5, c6, c7])\n",
    "\n",
    "status = model.optimize()\n",
    "print(\"status:\", model.status)\n",
    "print(\"objective value:\", model.objective.value)\n",
    "print(\"----------\")\n",
    "for var_name, var in model.variables.iteritems():\n",
    "    print(var_name, \"=\", var.primal)"
   ]
  }
 ],
 "metadata": {
  "interpreter": {
   "hash": "81ee8574ca4b949f1a68324cabe052a24810371303122f0dfbc70cb842d7a9dc"
  },
  "kernelspec": {
   "display_name": "Python 3.7.4 64-bit ('stats': conda)",
   "language": "python",
   "name": "python3"
  },
  "language_info": {
   "codemirror_mode": {
    "name": "ipython",
    "version": 3
   },
   "file_extension": ".py",
   "mimetype": "text/x-python",
   "name": "python",
   "nbconvert_exporter": "python",
   "pygments_lexer": "ipython3",
   "version": "3.7.4"
  },
  "orig_nbformat": 4
 },
 "nbformat": 4,
 "nbformat_minor": 2
}
