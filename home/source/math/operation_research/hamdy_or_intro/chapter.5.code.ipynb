{
 "cells": [
  {
   "cell_type": "markdown",
   "metadata": {},
   "source": [
    "# 第5章 运输问题代码演示"
   ]
  },
  {
   "cell_type": "markdown",
   "metadata": {},
   "source": [
    "## 发电厂问题\n",
    "\n",
    "有3个发电厂向3个城市供电，其发电量分贝为25、40、30兆千瓦时。3个尝试的最大需求量为30、35和25兆千瓦时。这三个城市的每兆千瓦时店家如表所示。\n",
    "\n",
    "| 电厂\\\\城市 |   1   |   2   |   3   |\n",
    "| --------: | :---: | :---: | :---: |\n",
    "|         1 |  600  |  700  |  400  |\n",
    "|         2 |  320  |  300  |  350  |\n",
    "|         3 |  500  |  480  |  450  |\n",
    "\n",
    "在8月份期间，这3个城市的每一个都会增加20%的用点需求量，这部分电量可以从别的电网以每兆千瓦时1000的额外费用够得。这个电网不与第三个城市相连，电力公司希望确定增加电量的最经济的销售和采购计划。"
   ]
  },
  {
   "cell_type": "code",
   "execution_count": 1,
   "metadata": {},
   "outputs": [
    {
     "name": "stdout",
     "output_type": "stream",
     "text": [
      "status: optimal\n",
      "objective value: 49850.0\n",
      "----------\n",
      "x11 = 0.0\n",
      "x12 = 0.0\n",
      "x13 = 25.0\n",
      "x21 = 30.0\n",
      "x22 = 10.0\n",
      "x23 = 0.0\n",
      "x31 = 0.0\n",
      "x32 = 25.0\n",
      "x33 = 5.0\n",
      "x41 = 6.0\n",
      "x42 = 7.0\n"
     ]
    }
   ],
   "source": [
    "from optlang import Model, Constraint, Variable, Objective\n",
    "\n",
    "# 价格\n",
    "price = [\n",
    "    [600, 700, 400],\n",
    "    [320, 300, 350],\n",
    "    [500, 480, 450],\n",
    "    [1000, 1000, None]\n",
    "]\n",
    "\n",
    "# 设定每条路线变量\n",
    "edges = dict()\n",
    "for i in range(1, 5):\n",
    "    for j in range(1, 4):\n",
    "        if i == 4 and j == 3:\n",
    "            break\n",
    "        else:\n",
    "            edges[f'x{i}{j}'] = Variable(f'x{i}{j}', lb=0)\n",
    "\n",
    "# 设定 优化函数\n",
    "obj_func = 0\n",
    "for i in range(1, 5):\n",
    "    for j in range(1, 4):\n",
    "        if i == 4 and j == 3:\n",
    "            break\n",
    "        else:\n",
    "            obj_func += edges[f'x{i}{j}'] * price[i-1][j-1]\n",
    "obj = Objective(obj_func, direction=\"min\")\n",
    "\n",
    "c_list = []\n",
    "\n",
    "# 设定每个城市8月供电下限\n",
    "for j, need in enumerate([30, 35, 25]):\n",
    "    c_temp = 0\n",
    "    for i in range(1, 5):\n",
    "        if i == 4 and j == 2:\n",
    "            break\n",
    "        else:\n",
    "            c_temp += edges[f'x{i}{j+1}'] \n",
    "    c_list.append(Constraint(c_temp, lb=need * 1.2))\n",
    "\n",
    "# 设定每个城市非8月供电下限\n",
    "for j, need in enumerate([30, 35, 25]):\n",
    "    c_temp = 0\n",
    "    for i in range(1, 4):\n",
    "        if i == 4 and j == 2:\n",
    "            break\n",
    "        else:\n",
    "            c_temp += edges[f'x{i}{j+1}'] \n",
    "    c_list.append(Constraint(c_temp, lb=need))\n",
    "\n",
    "# 设定每个电厂供电上限\n",
    "for i, product in enumerate([25, 40, 30]):\n",
    "    c_temp = 0\n",
    "    for j in range(1, 4):\n",
    "        c_temp += edges[f'x{i+1}{j}']\n",
    "    c_list.append(Constraint(c_temp, lb=0, ub=product))\n",
    "\n",
    "\n",
    "model = Model(name='电厂模型')\n",
    "model.objective = obj\n",
    "model.add(c_list)\n",
    "\n",
    "status = model.optimize()\n",
    "print(\"status:\", model.status)\n",
    "print(\"objective value:\", model.objective.value)\n",
    "print(\"----------\")\n",
    "for var_name, var in model.variables.iteritems():\n",
    "    print(var_name, \"=\", var.primal)"
   ]
  }
 ],
 "metadata": {
  "interpreter": {
   "hash": "81ee8574ca4b949f1a68324cabe052a24810371303122f0dfbc70cb842d7a9dc"
  },
  "kernelspec": {
   "display_name": "Python 3.7.4 64-bit ('stats': conda)",
   "language": "python",
   "name": "python3"
  },
  "language_info": {
   "codemirror_mode": {
    "name": "ipython",
    "version": 3
   },
   "file_extension": ".py",
   "mimetype": "text/x-python",
   "name": "python",
   "nbconvert_exporter": "python",
   "pygments_lexer": "ipython3",
   "version": "3.7.4"
  },
  "orig_nbformat": 4
 },
 "nbformat": 4,
 "nbformat_minor": 2
}
