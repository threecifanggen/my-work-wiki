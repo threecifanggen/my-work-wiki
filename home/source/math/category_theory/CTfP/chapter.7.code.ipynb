{
 "cells": [
  {
   "cell_type": "markdown",
   "metadata": {},
   "source": [
    "# 第7章 代码实现"
   ]
  },
  {
   "cell_type": "code",
   "execution_count": 7,
   "metadata": {},
   "outputs": [],
   "source": [
    "from IPython.display import display\n",
    "\n",
    "from typing import TypeVar, Generic, Callable\n",
    "from dataclasses import dataclass\n",
    "\n",
    "S = TypeVar(\"S\")\n",
    "T = TypeVar(\"T\")\n",
    "\n",
    "U = TypeVar(\"U\")"
   ]
  },
  {
   "cell_type": "markdown",
   "metadata": {},
   "source": [
    "## 7.1 编程中的函子\n",
    "\n",
    "### 7.1.1 `Maybe`函子"
   ]
  },
  {
   "cell_type": "code",
   "execution_count": 2,
   "metadata": {},
   "outputs": [],
   "source": [
    "class Maybe(Generic[S]):\n",
    "    pass\n",
    "\n",
    "@dataclass\n",
    "class Nothing(Maybe):\n",
    "    pass\n",
    "\n",
    "@dataclass\n",
    "class Some(Maybe, Generic[S]):\n",
    "    s: S"
   ]
  },
  {
   "cell_type": "code",
   "execution_count": 10,
   "metadata": {},
   "outputs": [
    {
     "data": {
      "text/plain": [
       "(Some(s=2), Nothing())"
      ]
     },
     "execution_count": 10,
     "metadata": {},
     "output_type": "execute_result"
    }
   ],
   "source": [
    "f = lambda x: x + 1\n",
    "\n",
    "def f1(f: Callable[[S], T], x: Maybe[S]) -> Maybe[T]:\n",
    "    if isinstance(x, Nothing):\n",
    "        return Nothing()\n",
    "    else:\n",
    "        return Some(f(x.s))\n",
    "\n",
    "f1(f, Some(1)), f1(f, Nothing())"
   ]
  },
  {
   "cell_type": "code",
   "execution_count": 12,
   "metadata": {},
   "outputs": [
    {
     "data": {
      "text/plain": [
       "(Some(s=2), Nothing())"
      ]
     },
     "execution_count": 12,
     "metadata": {},
     "output_type": "execute_result"
    }
   ],
   "source": [
    "def fmap(f: Callable[[S], T]) -> Callable[[Maybe[S]], Maybe[T]]:\n",
    "    def helper(x: Maybe[S]):\n",
    "        if isinstance(x, Nothing):\n",
    "            return Nothing()\n",
    "        else:\n",
    "            return Some(f(x.s))\n",
    "    return helper\n",
    "\n",
    "fmap(f)(Some(1)), fmap(f)(Nothing())"
   ]
  },
  {
   "cell_type": "markdown",
   "metadata": {},
   "source": [
    "### 7.1.2 公式推理"
   ]
  },
  {
   "cell_type": "code",
   "execution_count": 23,
   "metadata": {},
   "outputs": [
    {
     "data": {
      "text/plain": [
       "(True, True)"
      ]
     },
     "execution_count": 23,
     "metadata": {},
     "output_type": "execute_result"
    }
   ],
   "source": [
    "identity = lambda x: x\n",
    "x = 1\n",
    "\n",
    "fmap(identity)(Some(x)) == identity(Some(x)), fmap(identity)(Nothing()) == identity(Nothing()) "
   ]
  },
  {
   "cell_type": "code",
   "execution_count": 25,
   "metadata": {},
   "outputs": [
    {
     "data": {
      "text/plain": [
       "(True, True)"
      ]
     },
     "execution_count": 25,
     "metadata": {},
     "output_type": "execute_result"
    }
   ],
   "source": [
    "f = lambda x: x + 1\n",
    "g = lambda x: x ** 2\n",
    "\n",
    "fmap(f)(fmap(g)(Some(1))) == fmap(lambda x: f(g(x)))(Some(x)),\\\n",
    "    fmap(f)(fmap(g)(Nothing())) == fmap(lambda x: f(g(x)))(Nothing())"
   ]
  }
 ],
 "metadata": {
  "interpreter": {
   "hash": "81ee8574ca4b949f1a68324cabe052a24810371303122f0dfbc70cb842d7a9dc"
  },
  "kernelspec": {
   "display_name": "Python 3.7.4 64-bit ('stats': conda)",
   "language": "python",
   "name": "python3"
  },
  "language_info": {
   "codemirror_mode": {
    "name": "ipython",
    "version": 3
   },
   "file_extension": ".py",
   "mimetype": "text/x-python",
   "name": "python",
   "nbconvert_exporter": "python",
   "pygments_lexer": "ipython3",
   "version": "3.7.4"
  },
  "orig_nbformat": 4
 },
 "nbformat": 4,
 "nbformat_minor": 2
}
