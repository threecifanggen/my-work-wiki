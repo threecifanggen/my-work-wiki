{
 "cells": [
  {
   "cell_type": "markdown",
   "metadata": {},
   "source": [
    "# 6.5 习题"
   ]
  },
  {
   "cell_type": "code",
   "execution_count": 1,
   "metadata": {},
   "outputs": [],
   "source": [
    "from IPython.display import display\n",
    "\n",
    "from typing import TypeVar, Generic\n",
    "from dataclasses import dataclass\n",
    "\n",
    "S = TypeVar(\"S\")\n",
    "T = TypeVar(\"T\")\n",
    "U = TypeVar(\"U\")"
   ]
  },
  {
   "cell_type": "markdown",
   "metadata": {},
   "source": [
    "## 1\n",
    "\n",
    "Show the isomorphism between `Maybe a` and `Either () a`.\n",
    "\n",
    "```python\n",
    "def maybe_to_either(x: Maybe[A]):\n",
    "    if isinstance(x, Just):\n",
    "        return Right(a)\n",
    "    else:\n",
    "        return Left(())\n",
    "```"
   ]
  },
  {
   "cell_type": "markdown",
   "metadata": {},
   "source": [
    "## 2\n",
    "\n",
    "Here’s a sum type defined in Haskell:\n",
    "\n",
    "```haskell\n",
    "data Shape = Circle Float\n",
    "| Rect Float Float\n",
    "```\n",
    "\n",
    "When we want to define a function like `area` that acts on a `Shape`, we do it by pattern matching on the two constructors:\n",
    "\n",
    "```haskell\n",
    "area :: Shape -> Float\n",
    "area (Circle r) = pi * r * r\n",
    "area (Rect d h) = d * h\n",
    "```\n",
    "\n",
    "Implement Shape in C++ or Java as an interface and create two classes: `Circle` and `Rect`. Implement `area` as a virtual function."
   ]
  },
  {
   "cell_type": "code",
   "execution_count": 2,
   "metadata": {},
   "outputs": [],
   "source": [
    "class Shape:\n",
    "    pass\n",
    "\n",
    "@dataclass\n",
    "class Circle(Shape):\n",
    "    r: float\n",
    "\n",
    "@dataclass\n",
    "class Rect(Shape):\n",
    "    d: float\n",
    "    h: float\n",
    "\n",
    "def area(s: Shape) -> float:\n",
    "    if isinstance(s, Circle):\n",
    "        return 3.14 * s.r * s.r\n",
    "    else:\n",
    "        return s.d * s.h"
   ]
  },
  {
   "cell_type": "code",
   "execution_count": 3,
   "metadata": {},
   "outputs": [
    {
     "data": {
      "text/plain": [
       "'Area of c is 3.14.'"
      ]
     },
     "metadata": {},
     "output_type": "display_data"
    },
    {
     "data": {
      "text/plain": [
       "'Area of r is 5.2.'"
      ]
     },
     "metadata": {},
     "output_type": "display_data"
    }
   ],
   "source": [
    "c = Circle(1.0)\n",
    "r = Rect(1.0, 5.2)\n",
    "\n",
    "display(f\"Area of c is {area(c)}.\")\n",
    "display(f\"Area of r is {area(r)}.\")"
   ]
  },
  {
   "cell_type": "markdown",
   "metadata": {},
   "source": [
    "## 3\n",
    "\n",
    "Continuing with the previous example: We can easily add a new\n",
    "function `circ` that calculates the circumference of a `Shape`. We\n",
    "can do it without touching the definition of `Shape`:\n",
    "\n",
    "```haskell\n",
    "circ :: Shape -> Float\n",
    "circ (Circle r) = 2.0 * pi * r\n",
    "circ (Rect d h) = 2.0 * (d + h)\n",
    "```\n",
    "\n",
    "Add `circ` to your C++ or Java implementation. What parts of the\n",
    "original code did you have to touch?"
   ]
  },
  {
   "cell_type": "code",
   "execution_count": 4,
   "metadata": {},
   "outputs": [],
   "source": [
    "def circ(s: Shape):\n",
    "    if isinstance(s, Circle):\n",
    "        return 2.0 * 3.14 * s.r\n",
    "    else:\n",
    "        return 2.0 * (s.d + s.h)"
   ]
  },
  {
   "cell_type": "code",
   "execution_count": 5,
   "metadata": {},
   "outputs": [
    {
     "data": {
      "text/plain": [
       "'Circumference of c is 6.28.'"
      ]
     },
     "metadata": {},
     "output_type": "display_data"
    },
    {
     "data": {
      "text/plain": [
       "'Circumference of r is 12.4.'"
      ]
     },
     "metadata": {},
     "output_type": "display_data"
    }
   ],
   "source": [
    "display(f\"Circumference of c is {circ(c)}.\")\n",
    "display(f\"Circumference of r is {circ(r)}.\")"
   ]
  },
  {
   "cell_type": "markdown",
   "metadata": {},
   "source": [
    "## 4\n",
    "\n",
    "Continuing further: Add a new shape, `Square`, to `Shape` and make\n",
    "all the necessary updates. What code did you have to touch in\n",
    "Haskell vs. C++ or Java? (Even if you’re not a Haskell program-\n",
    "mer, the modifications should be pretty obvious.)"
   ]
  },
  {
   "cell_type": "code",
   "execution_count": 6,
   "metadata": {},
   "outputs": [],
   "source": [
    "class Shape:\n",
    "    pass\n",
    "\n",
    "@dataclass\n",
    "class Circle(Shape):\n",
    "    r: float\n",
    "\n",
    "@dataclass\n",
    "class Rect(Shape):\n",
    "    d: float\n",
    "    h: float\n",
    "\n",
    "@dataclass\n",
    "class Square(Shape):\n",
    "    e: float\n",
    "\n",
    "def area(s: Shape) -> float:\n",
    "    if isinstance(s, Circle):\n",
    "        return 3.14 * s.r * s.r\n",
    "    elif isinstance(s, Rect):\n",
    "        return s.d * s.h\n",
    "    else:\n",
    "        return s.e ** 2\n",
    "\n",
    "\n",
    "def circ(s: Shape):\n",
    "    if isinstance(s, Circle):\n",
    "        return 2.0 * 3.14 * s.r\n",
    "    elif isinstance(s, Rect):\n",
    "        return 2.0 * (s.d + s.h)\n",
    "    else:\n",
    "        return s.e * 4"
   ]
  },
  {
   "cell_type": "code",
   "execution_count": 7,
   "metadata": {},
   "outputs": [
    {
     "data": {
      "text/plain": [
       "'Area of sq is 4.0.'"
      ]
     },
     "metadata": {},
     "output_type": "display_data"
    },
    {
     "data": {
      "text/plain": [
       "'Circumference of sq is 8.0.'"
      ]
     },
     "metadata": {},
     "output_type": "display_data"
    }
   ],
   "source": [
    "sq = Square(2.0)\n",
    "\n",
    "display(f\"Area of sq is {area(sq)}.\")\n",
    "display(f\"Circumference of sq is {circ(sq)}.\")"
   ]
  },
  {
   "cell_type": "markdown",
   "metadata": {},
   "source": [
    "## 5\n",
    "\n",
    "Show that 𝑎 + 𝑎 = 2 × 𝑎 holds for types (up to isomorphism). Remember that 2 corresponds to Bool, according to our translation table.\n"
   ]
  },
  {
   "cell_type": "code",
   "execution_count": 8,
   "metadata": {},
   "outputs": [
    {
     "data": {
      "text/plain": [
       "BoolEither(is_left=True, v=2)"
      ]
     },
     "execution_count": 8,
     "metadata": {},
     "output_type": "execute_result"
    }
   ],
   "source": [
    "class EitherSame(Generic[S]):\n",
    "    pass\n",
    "\n",
    "@dataclass\n",
    "class LeftSame(EitherSame, Generic[S]):\n",
    "    v: S\n",
    "\n",
    "@dataclass\n",
    "class RightSame(EitherSame, Generic[S]):\n",
    "    v: S\n",
    "\n",
    "@dataclass\n",
    "class BoolEither(Generic[S]):\n",
    "    is_left: bool\n",
    "    v: S\n",
    "\n",
    "def bool_either_to_either_same(x: EitherSame[S]) -> BoolEither[S]:\n",
    "    if isinstance(x, LeftSame):\n",
    "        return BoolEither(True, x.v)\n",
    "    else:\n",
    "        return BoolEither(False, x.v)\n",
    "\n",
    "\n",
    "bool_either_to_either_same(LeftSame(2))"
   ]
  }
 ],
 "metadata": {
  "kernelspec": {
   "display_name": "base",
   "language": "python",
   "name": "python3"
  },
  "language_info": {
   "codemirror_mode": {
    "name": "ipython",
    "version": 3
   },
   "file_extension": ".py",
   "mimetype": "text/x-python",
   "name": "python",
   "nbconvert_exporter": "python",
   "pygments_lexer": "ipython3",
   "version": "3.9.12 (main, Apr  4 2022, 05:22:27) [MSC v.1916 64 bit (AMD64)]"
  },
  "orig_nbformat": 4,
  "vscode": {
   "interpreter": {
    "hash": "ad2bdc8ecc057115af97d19610ffacc2b4e99fae6737bb82f5d7fb13d2f2c186"
   }
  }
 },
 "nbformat": 4,
 "nbformat_minor": 2
}
