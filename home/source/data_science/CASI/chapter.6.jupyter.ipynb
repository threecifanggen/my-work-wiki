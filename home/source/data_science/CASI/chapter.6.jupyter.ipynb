{
 "cells": [
  {
   "cell_type": "markdown",
   "metadata": {},
   "source": [
    "# 第六章 经验贝叶斯"
   ]
  },
  {
   "cell_type": "markdown",
   "metadata": {},
   "source": [
    "## 汽车索赔的例子——rubbin分数"
   ]
  },
  {
   "cell_type": "code",
   "execution_count": 1,
   "metadata": {},
   "outputs": [],
   "source": [
    "%matplotlib inline\n",
    "\n",
    "from functools import reduce\n",
    "\n",
    "import numpy as np\n",
    "import pandas as pd\n",
    "import seaborn as sb\n",
    "from scipy.optimize import minimize\n",
    "from scipy.special import gamma, factorial\n",
    " \n",
    "sb.set_style(\"whitegrid\")"
   ]
  },
  {
   "cell_type": "markdown",
   "metadata": {},
   "source": [
    "输入数据："
   ]
  },
  {
   "cell_type": "code",
   "execution_count": 2,
   "metadata": {},
   "outputs": [
    {
     "data": {
      "text/plain": [
       "<AxesSubplot:xlabel='x', ylabel='y'>"
      ]
     },
     "execution_count": 2,
     "metadata": {},
     "output_type": "execute_result"
    },
    {
     "data": {
      "image/png": "[encoded data removed]",
      "text/plain": [
       "<Figure size 432x288 with 1 Axes>"
      ]
     },
     "metadata": {},
     "output_type": "display_data"
    }
   ],
   "source": [
    "y = np.array([7840, 1317, 239, 42, 14, 4, 4, 1])\n",
    "df = pd.DataFrame(\n",
    "    {\n",
    "        \"x\": list(range(8)),\n",
    "        \"y\": y\n",
    "    }\n",
    ")\n",
    "sb.barplot(data=df, x=\"x\", y=\"y\")"
   ]
  },
  {
   "cell_type": "markdown",
   "metadata": {},
   "source": [
    "计算分数："
   ]
  },
  {
   "cell_type": "code",
   "execution_count": 3,
   "metadata": {},
   "outputs": [
    {
     "data": {
      "text/html": [
       "<div>\n",
       "<style scoped>\n",
       "    .dataframe tbody tr th:only-of-type {\n",
       "        vertical-align: middle;\n",
       "    }\n",
       "\n",
       "    .dataframe tbody tr th {\n",
       "        vertical-align: top;\n",
       "    }\n",
       "\n",
       "    .dataframe thead th {\n",
       "        text-align: right;\n",
       "    }\n",
       "</style>\n",
       "<table border=\"1\" class=\"dataframe\">\n",
       "  <thead>\n",
       "    <tr style=\"text-align: right;\">\n",
       "      <th></th>\n",
       "      <th>x</th>\n",
       "      <th>y</th>\n",
       "      <th>y_1</th>\n",
       "      <th>rubbin_e</th>\n",
       "    </tr>\n",
       "  </thead>\n",
       "  <tbody>\n",
       "    <tr>\n",
       "      <th>0</th>\n",
       "      <td>0</td>\n",
       "      <td>7840</td>\n",
       "      <td>1317</td>\n",
       "      <td>0.167985</td>\n",
       "    </tr>\n",
       "    <tr>\n",
       "      <th>1</th>\n",
       "      <td>1</td>\n",
       "      <td>1317</td>\n",
       "      <td>239</td>\n",
       "      <td>0.362946</td>\n",
       "    </tr>\n",
       "    <tr>\n",
       "      <th>2</th>\n",
       "      <td>2</td>\n",
       "      <td>239</td>\n",
       "      <td>42</td>\n",
       "      <td>0.527197</td>\n",
       "    </tr>\n",
       "    <tr>\n",
       "      <th>3</th>\n",
       "      <td>3</td>\n",
       "      <td>42</td>\n",
       "      <td>14</td>\n",
       "      <td>1.333333</td>\n",
       "    </tr>\n",
       "    <tr>\n",
       "      <th>4</th>\n",
       "      <td>4</td>\n",
       "      <td>14</td>\n",
       "      <td>4</td>\n",
       "      <td>1.428571</td>\n",
       "    </tr>\n",
       "    <tr>\n",
       "      <th>5</th>\n",
       "      <td>5</td>\n",
       "      <td>4</td>\n",
       "      <td>4</td>\n",
       "      <td>6.000000</td>\n",
       "    </tr>\n",
       "    <tr>\n",
       "      <th>6</th>\n",
       "      <td>6</td>\n",
       "      <td>4</td>\n",
       "      <td>1</td>\n",
       "      <td>1.750000</td>\n",
       "    </tr>\n",
       "    <tr>\n",
       "      <th>7</th>\n",
       "      <td>7</td>\n",
       "      <td>1</td>\n",
       "      <td>0</td>\n",
       "      <td>0.000000</td>\n",
       "    </tr>\n",
       "  </tbody>\n",
       "</table>\n",
       "</div>"
      ],
      "text/plain": [
       "   x     y   y_1  rubbin_e\n",
       "0  0  7840  1317  0.167985\n",
       "1  1  1317   239  0.362946\n",
       "2  2   239    42  0.527197\n",
       "3  3    42    14  1.333333\n",
       "4  4    14     4  1.428571\n",
       "5  5     4     4  6.000000\n",
       "6  6     4     1  1.750000\n",
       "7  7     1     0  0.000000"
      ]
     },
     "execution_count": 3,
     "metadata": {},
     "output_type": "execute_result"
    }
   ],
   "source": [
    "def rubbin_e(x, y_x, y_x_1):\n",
    "    \"\"\"rubbin分数\n",
    "    \"\"\"\n",
    "    return (x + 1) * y_x_1 / y_x \n",
    "\n",
    "\n",
    "df[\"y_1\"] = list(df[\"y\"][1:]) + [0]\n",
    "df['rubbin_e'] = df.apply(\n",
    "    lambda row: rubbin_e(row['x'], row['y'], row['y_1']),\n",
    "    axis=1\n",
    ")\n",
    "df"
   ]
  },
  {
   "cell_type": "markdown",
   "metadata": {},
   "source": [
    "Gamma分布评估：\n",
    "\n",
    "!!!!待修改"
   ]
  },
  {
   "cell_type": "code",
   "execution_count": 4,
   "metadata": {},
   "outputs": [
    {
     "name": "stderr",
     "output_type": "stream",
     "text": [
      "D:\\ProgramData\\Anaconda3\\envs\\stats\\lib\\site-packages\\ipykernel_launcher.py:5: RuntimeWarning: invalid value encountered in double_scalars\n",
      "  \"\"\"\n"
     ]
    },
    {
     "data": {
      "text/html": [
       "<div>\n",
       "<style scoped>\n",
       "    .dataframe tbody tr th:only-of-type {\n",
       "        vertical-align: middle;\n",
       "    }\n",
       "\n",
       "    .dataframe tbody tr th {\n",
       "        vertical-align: top;\n",
       "    }\n",
       "\n",
       "    .dataframe thead th {\n",
       "        text-align: right;\n",
       "    }\n",
       "</style>\n",
       "<table border=\"1\" class=\"dataframe\">\n",
       "  <thead>\n",
       "    <tr style=\"text-align: right;\">\n",
       "      <th></th>\n",
       "      <th>x</th>\n",
       "      <th>y</th>\n",
       "      <th>y_1</th>\n",
       "      <th>rubbin_e</th>\n",
       "      <th>y_hat</th>\n",
       "      <th>y_hat_1</th>\n",
       "      <th>gamma_mle</th>\n",
       "    </tr>\n",
       "  </thead>\n",
       "  <tbody>\n",
       "    <tr>\n",
       "      <th>0</th>\n",
       "      <td>0</td>\n",
       "      <td>7840</td>\n",
       "      <td>1317</td>\n",
       "      <td>0.167985</td>\n",
       "      <td>0.006307</td>\n",
       "      <td>0.081987</td>\n",
       "      <td>0.000000</td>\n",
       "    </tr>\n",
       "    <tr>\n",
       "      <th>1</th>\n",
       "      <td>1</td>\n",
       "      <td>1317</td>\n",
       "      <td>239</td>\n",
       "      <td>0.362946</td>\n",
       "      <td>0.081987</td>\n",
       "      <td>0.539746</td>\n",
       "      <td>6.583333</td>\n",
       "    </tr>\n",
       "    <tr>\n",
       "      <th>2</th>\n",
       "      <td>2</td>\n",
       "      <td>239</td>\n",
       "      <td>42</td>\n",
       "      <td>0.527197</td>\n",
       "      <td>0.539746</td>\n",
       "      <td>2.398869</td>\n",
       "      <td>8.888889</td>\n",
       "    </tr>\n",
       "    <tr>\n",
       "      <th>3</th>\n",
       "      <td>3</td>\n",
       "      <td>42</td>\n",
       "      <td>14</td>\n",
       "      <td>1.333333</td>\n",
       "      <td>2.398869</td>\n",
       "      <td>8.096183</td>\n",
       "      <td>10.125000</td>\n",
       "    </tr>\n",
       "    <tr>\n",
       "      <th>4</th>\n",
       "      <td>4</td>\n",
       "      <td>14</td>\n",
       "      <td>4</td>\n",
       "      <td>1.428571</td>\n",
       "      <td>8.096183</td>\n",
       "      <td>22.129566</td>\n",
       "      <td>10.933333</td>\n",
       "    </tr>\n",
       "    <tr>\n",
       "      <th>5</th>\n",
       "      <td>5</td>\n",
       "      <td>4</td>\n",
       "      <td>4</td>\n",
       "      <td>6.000000</td>\n",
       "      <td>22.129566</td>\n",
       "      <td>51.020945</td>\n",
       "      <td>11.527778</td>\n",
       "    </tr>\n",
       "    <tr>\n",
       "      <th>6</th>\n",
       "      <td>6</td>\n",
       "      <td>4</td>\n",
       "      <td>1</td>\n",
       "      <td>1.750000</td>\n",
       "      <td>51.020945</td>\n",
       "      <td>102.041890</td>\n",
       "      <td>12.000000</td>\n",
       "    </tr>\n",
       "    <tr>\n",
       "      <th>7</th>\n",
       "      <td>7</td>\n",
       "      <td>1</td>\n",
       "      <td>0</td>\n",
       "      <td>0.000000</td>\n",
       "      <td>102.041890</td>\n",
       "      <td>0.000000</td>\n",
       "      <td>0.000000</td>\n",
       "    </tr>\n",
       "  </tbody>\n",
       "</table>\n",
       "</div>"
      ],
      "text/plain": [
       "   x     y   y_1  rubbin_e       y_hat     y_hat_1  gamma_mle\n",
       "0  0  7840  1317  0.167985    0.006307    0.081987   0.000000\n",
       "1  1  1317   239  0.362946    0.081987    0.539746   6.583333\n",
       "2  2   239    42  0.527197    0.539746    2.398869   8.888889\n",
       "3  3    42    14  1.333333    2.398869    8.096183  10.125000\n",
       "4  4    14     4  1.428571    8.096183   22.129566  10.933333\n",
       "5  5     4     4  6.000000   22.129566   51.020945  11.527778\n",
       "6  6     4     1  1.750000   51.020945  102.041890  12.000000\n",
       "7  7     1     0  0.000000  102.041890    0.000000   0.000000"
      ]
     },
     "execution_count": 4,
     "metadata": {},
     "output_type": "execute_result"
    }
   ],
   "source": [
    "def f(x):\n",
    "    def helper(params):\n",
    "        nu, sigma = params\n",
    "        g = sigma / (1 + sigma)\n",
    "        return g ** (nu + x) * gamma(nu + x) / sigma ** nu / gamma(nu) / factorial(x)\n",
    "    return helper\n",
    "\n",
    "mle_gamma_list = df.apply(\n",
    "    lambda row: lambda params: - np.log(f(row['x'])(params)) * row['y'],\n",
    "    axis=1\n",
    "    ).tolist()\n",
    "\n",
    "mle_gamma_func = reduce(\n",
    "    lambda f1, f2: lambda params: f1(params) + f2(params),\n",
    "    mle_gamma_list)\n",
    "res = minimize(\n",
    "    mle_gamma_func,\n",
    "    x0=(78, 0.2),\n",
    "    # method='BFGS',\n",
    "    # options={'maxiter': 1000000},\n",
    "    options={'disp': True},\n",
    "    bounds= (\n",
    "        (0, None),\n",
    "        (0, None)\n",
    "    ))\n",
    "params = res.x\n",
    "params\n",
    "\n",
    "df['y_hat'] = df['x'].apply(\n",
    "    lambda x: f(x)(params)* df['y'].sum()\n",
    "    )\n",
    "df['y_hat_1'] = df['y_hat'][1:].tolist() + [0.]\n",
    "df['gamma_mle'] = df['x'] * df['y_hat_1'] / df['y_hat']\n",
    "df"
   ]
  },
  {
   "cell_type": "code",
   "execution_count": null,
   "metadata": {},
   "outputs": [],
   "source": []
  }
 ],
 "metadata": {
  "interpreter": {
   "hash": "81ee8574ca4b949f1a68324cabe052a24810371303122f0dfbc70cb842d7a9dc"
  },
  "kernelspec": {
   "display_name": "Python 3.7.4 64-bit ('stats': conda)",
   "language": "python",
   "name": "python3"
  },
  "language_info": {
   "codemirror_mode": {
    "name": "ipython",
    "version": 3
   },
   "file_extension": ".py",
   "mimetype": "text/x-python",
   "name": "python",
   "nbconvert_exporter": "python",
   "pygments_lexer": "ipython3",
   "version": "3.7.4"
  },
  "orig_nbformat": 4
 },
 "nbformat": 4,
 "nbformat_minor": 2
}
